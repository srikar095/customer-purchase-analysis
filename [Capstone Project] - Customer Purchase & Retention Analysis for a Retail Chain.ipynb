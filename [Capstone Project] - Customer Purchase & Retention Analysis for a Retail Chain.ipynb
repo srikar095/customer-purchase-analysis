{
 "cells": [
  {
   "cell_type": "markdown",
   "metadata": {
    "application/vnd.databricks.v1+cell": {
     "cellMetadata": {
      "byteLimit": 2048000,
      "rowLimit": 10000
     },
     "inputWidgets": {},
     "nuid": "f2cf7929-c25c-4578-8021-2a1af15f49dc",
     "showTitle": false,
     "tableResultSettingsMap": {},
     "title": ""
    }
   },
   "source": [
    "# Prerequisites"
   ]
  },
  {
   "cell_type": "code",
   "execution_count": 0,
   "metadata": {
    "application/vnd.databricks.v1+cell": {
     "cellMetadata": {
      "byteLimit": 2048000,
      "rowLimit": 10000
     },
     "inputWidgets": {},
     "nuid": "6794fecb-01fb-4b34-ba8f-25498cad2880",
     "showTitle": false,
     "tableResultSettingsMap": {
      "0": {
       "dataGridStateBlob": "{\"version\":1,\"tableState\":{\"columnPinning\":{\"left\":[\"#row_number#\"],\"right\":[]},\"columnSizing\":{\"email\":146},\"columnVisibility\":{}},\"settings\":{\"columns\":{}},\"syncTimestamp\":1752124514135}",
       "filterBlob": null,
       "queryPlanFiltersBlob": null,
       "tableResultIndex": 0
      }
     },
     "title": ""
    }
   },
   "outputs": [],
   "source": [
    "customers_df = spark.read.csv(\n",
    "    path=\"/Volumes/quickstart_catalog/quickstart_schema/my_dataset/customer_insights_db/customers.csv\",\n",
    "    header=True,\n",
    ")\n",
    "customers_df.display()"
   ]
  },
  {
   "cell_type": "code",
   "execution_count": 0,
   "metadata": {
    "application/vnd.databricks.v1+cell": {
     "cellMetadata": {
      "byteLimit": 2048000,
      "rowLimit": 10000
     },
     "inputWidgets": {},
     "nuid": "4e9b4ccd-58e6-4950-be1c-0044832e2ec1",
     "showTitle": false,
     "tableResultSettingsMap": {},
     "title": ""
    }
   },
   "outputs": [],
   "source": [
    "products_df = spark.read.csv(\n",
    "    path=\"/Volumes/quickstart_catalog/quickstart_schema/my_dataset/customer_insights_db/products.csv\",\n",
    "    header=True,\n",
    ")\n",
    "products_df.display()"
   ]
  },
  {
   "cell_type": "code",
   "execution_count": 0,
   "metadata": {
    "application/vnd.databricks.v1+cell": {
     "cellMetadata": {
      "byteLimit": 2048000,
      "rowLimit": 10000
     },
     "inputWidgets": {},
     "nuid": "71ddd375-d8a7-4589-b70e-3a47c587a375",
     "showTitle": false,
     "tableResultSettingsMap": {},
     "title": ""
    }
   },
   "outputs": [],
   "source": [
    "transactions_df = spark.read.csv(\n",
    "    path=\"/Volumes/quickstart_catalog/quickstart_schema/my_dataset/customer_insights_db/transactions.csv\",\n",
    "    header=True,\n",
    ")\n",
    "transactions_df.display()"
   ]
  },
  {
   "cell_type": "markdown",
   "metadata": {
    "application/vnd.databricks.v1+cell": {
     "cellMetadata": {
      "byteLimit": 2048000,
      "rowLimit": 10000
     },
     "inputWidgets": {},
     "nuid": "3d7f0a9f-6a35-429a-8156-037204383389",
     "showTitle": false,
     "tableResultSettingsMap": {},
     "title": ""
    }
   },
   "source": [
    "# 1. Data Cleaning & Preparation"
   ]
  },
  {
   "cell_type": "markdown",
   "metadata": {
    "application/vnd.databricks.v1+cell": {
     "cellMetadata": {
      "byteLimit": 2048000,
      "rowLimit": 10000
     },
     "inputWidgets": {},
     "nuid": "426da2ce-c572-436b-b692-8f42a66f0246",
     "showTitle": false,
     "tableResultSettingsMap": {},
     "title": ""
    }
   },
   "source": [
    "## Correct malformed emails"
   ]
  },
  {
   "cell_type": "code",
   "execution_count": 0,
   "metadata": {
    "application/vnd.databricks.v1+cell": {
     "cellMetadata": {
      "byteLimit": 2048000,
      "rowLimit": 10000
     },
     "inputWidgets": {},
     "nuid": "f808affc-37dd-4e60-a49a-8532714bc6a0",
     "showTitle": false,
     "tableResultSettingsMap": {
      "0": {
       "dataGridStateBlob": "{\"version\":1,\"tableState\":{\"columnPinning\":{\"left\":[\"#row_number#\"],\"right\":[]},\"columnSizing\":{\"email\":185},\"columnVisibility\":{}},\"settings\":{\"columns\":{}},\"syncTimestamp\":1752124753814}",
       "filterBlob": null,
       "queryPlanFiltersBlob": null,
       "tableResultIndex": 0
      }
     },
     "title": ""
    }
   },
   "outputs": [],
   "source": [
    "from pyspark.sql.functions import regexp_replace, col\n",
    "customers_df = customers_df.withColumn(\"email\", regexp_replace(col(\"email\"),\"@{2,}\", \"@\"))\n",
    "customers_df.display()"
   ]
  },
  {
   "cell_type": "markdown",
   "metadata": {
    "application/vnd.databricks.v1+cell": {
     "cellMetadata": {
      "byteLimit": 2048000,
      "rowLimit": 10000
     },
     "inputWidgets": {},
     "nuid": "f06b1d11-4ad3-4847-926e-f350592a505c",
     "showTitle": false,
     "tableResultSettingsMap": {},
     "title": ""
    }
   },
   "source": [
    "## Replace missing discount values with 0"
   ]
  },
  {
   "cell_type": "code",
   "execution_count": 0,
   "metadata": {
    "application/vnd.databricks.v1+cell": {
     "cellMetadata": {
      "byteLimit": 2048000,
      "rowLimit": 10000
     },
     "inputWidgets": {},
     "nuid": "e9f29bf9-2df5-41af-b853-31e593839b77",
     "showTitle": false,
     "tableResultSettingsMap": {},
     "title": ""
    }
   },
   "outputs": [],
   "source": [
    "transactions_df = transactions_df.withColumn(\"discount\", col(\"discount\").cast(\"double\"))\n",
    "transactions_df = transactions_df.na.fill({\"discount\":0})\n",
    "transactions_df.display()"
   ]
  },
  {
   "cell_type": "code",
   "execution_count": 0,
   "metadata": {
    "application/vnd.databricks.v1+cell": {
     "cellMetadata": {
      "byteLimit": 2048000,
      "rowLimit": 10000
     },
     "inputWidgets": {},
     "nuid": "ff089cc3-6c71-4569-b509-1f573eec13ba",
     "showTitle": false,
     "tableResultSettingsMap": {},
     "title": ""
    }
   },
   "outputs": [],
   "source": [
    "transactions_df.display()"
   ]
  },
  {
   "cell_type": "markdown",
   "metadata": {
    "application/vnd.databricks.v1+cell": {
     "cellMetadata": {
      "byteLimit": 2048000,
      "rowLimit": 10000
     },
     "inputWidgets": {},
     "nuid": "4721552b-d375-4d7a-af4b-2a270439bd97",
     "showTitle": false,
     "tableResultSettingsMap": {},
     "title": ""
    }
   },
   "source": [
    "## Handle missing dob by flagging customers for manual enrichment"
   ]
  },
  {
   "cell_type": "code",
   "execution_count": 0,
   "metadata": {
    "application/vnd.databricks.v1+cell": {
     "cellMetadata": {
      "byteLimit": 2048000,
      "rowLimit": 10000
     },
     "inputWidgets": {},
     "nuid": "4a98f04c-24e5-4445-90f2-52cfc5b1950e",
     "showTitle": false,
     "tableResultSettingsMap": {},
     "title": ""
    }
   },
   "outputs": [],
   "source": [
    "from pyspark.sql.functions import when\n",
    "customers_df = customers_df.withColumn(\"DOB Check\",when(col(\"dob\").isNull(),\"Fill DOB\").otherwise(\"Pass\"))\n",
    "customers_df.display()"
   ]
  },
  {
   "cell_type": "markdown",
   "metadata": {
    "application/vnd.databricks.v1+cell": {
     "cellMetadata": {
      "byteLimit": 2048000,
      "rowLimit": 10000
     },
     "inputWidgets": {},
     "nuid": "e0e76b41-0aed-4b2f-bb2e-597f90463ca9",
     "showTitle": false,
     "tableResultSettingsMap": {},
     "title": ""
    }
   },
   "source": [
    "## Flag transactions with missing txn_date as unprocessed"
   ]
  },
  {
   "cell_type": "code",
   "execution_count": 0,
   "metadata": {
    "application/vnd.databricks.v1+cell": {
     "cellMetadata": {
      "byteLimit": 2048000,
      "rowLimit": 10000
     },
     "inputWidgets": {},
     "nuid": "116e91dc-7a5f-4e58-9d86-a4e7b5b2a1df",
     "showTitle": false,
     "tableResultSettingsMap": {},
     "title": ""
    }
   },
   "outputs": [],
   "source": [
    "from pyspark.sql.functions import when\n",
    "transactions_df = transactions_df.withColumn(\"Transaction Check\",when(col(\"txn_date\").isNull(),\"Unprocessed\").otherwise(\"Processed\"))\n",
    "transactions_df.display()"
   ]
  },
  {
   "cell_type": "markdown",
   "metadata": {
    "application/vnd.databricks.v1+cell": {
     "cellMetadata": {
      "byteLimit": 2048000,
      "rowLimit": 10000
     },
     "inputWidgets": {},
     "nuid": "204f1051-8164-4f0e-8c8f-d8b2ab36dd46",
     "showTitle": false,
     "tableResultSettingsMap": {},
     "title": ""
    }
   },
   "source": [
    "# 2. Customer Retention Analysis"
   ]
  },
  {
   "cell_type": "markdown",
   "metadata": {
    "application/vnd.databricks.v1+cell": {
     "cellMetadata": {
      "byteLimit": 2048000,
      "rowLimit": 10000
     },
     "inputWidgets": {},
     "nuid": "542b4d6d-62c3-40c9-bacb-f159dcadaa30",
     "showTitle": false,
     "tableResultSettingsMap": {},
     "title": ""
    }
   },
   "source": [
    "## Management wants to understand repeat customer behavior"
   ]
  },
  {
   "cell_type": "code",
   "execution_count": 0,
   "metadata": {
    "application/vnd.databricks.v1+cell": {
     "cellMetadata": {
      "byteLimit": 2048000,
      "rowLimit": 10000
     },
     "inputWidgets": {},
     "nuid": "f6262eca-a315-474f-a4a8-e0072904af43",
     "showTitle": false,
     "tableResultSettingsMap": {},
     "title": ""
    }
   },
   "outputs": [],
   "source": [
    "transactions_df.display()"
   ]
  },
  {
   "cell_type": "code",
   "execution_count": 0,
   "metadata": {
    "application/vnd.databricks.v1+cell": {
     "cellMetadata": {
      "byteLimit": 2048000,
      "rowLimit": 10000
     },
     "inputWidgets": {},
     "nuid": "c736e60f-c5c5-43a8-bd7f-5310d79f07db",
     "showTitle": false,
     "tableResultSettingsMap": {},
     "title": ""
    }
   },
   "outputs": [],
   "source": [
    "from pyspark.sql.functions import countDistinct\n",
    "transactions_df.groupBy(\"customer_id\").agg(countDistinct(\"txn_id\").alias(\"purchase_count\")).filter(col(\"purchase_count\") > 1).sort(col(\"purchase_count\").desc()).display()"
   ]
  },
  {
   "cell_type": "markdown",
   "metadata": {
    "application/vnd.databricks.v1+cell": {
     "cellMetadata": {
      "byteLimit": 2048000,
      "rowLimit": 10000
     },
     "inputWidgets": {},
     "nuid": "55a327d7-cc0d-40e6-99c7-d9c26c9ec61b",
     "showTitle": false,
     "tableResultSettingsMap": {},
     "title": ""
    }
   },
   "source": [
    "## Identify customers who have made more than one purchase and calculate their contribution to overall revenue."
   ]
  },
  {
   "cell_type": "code",
   "execution_count": 0,
   "metadata": {
    "application/vnd.databricks.v1+cell": {
     "cellMetadata": {
      "byteLimit": 2048000,
      "rowLimit": 10000
     },
     "inputWidgets": {},
     "nuid": "a805fed3-edf3-481a-8a3f-5f29412225c2",
     "showTitle": false,
     "tableResultSettingsMap": {},
     "title": ""
    }
   },
   "outputs": [],
   "source": [
    "transactions_products_df = transactions_df.join(products_df, transactions_df[\"product_id\"] == products_df[\"product_id\"],\"inner\")"
   ]
  },
  {
   "cell_type": "code",
   "execution_count": 0,
   "metadata": {
    "application/vnd.databricks.v1+cell": {
     "cellMetadata": {
      "byteLimit": 2048000,
      "rowLimit": 10000
     },
     "inputWidgets": {},
     "nuid": "a9061b0a-5671-4681-a6e2-22bdf204fe39",
     "showTitle": false,
     "tableResultSettingsMap": {},
     "title": ""
    }
   },
   "outputs": [],
   "source": [
    "transactions_products_df.display()"
   ]
  },
  {
   "cell_type": "code",
   "execution_count": 0,
   "metadata": {
    "application/vnd.databricks.v1+cell": {
     "cellMetadata": {
      "byteLimit": 2048000,
      "rowLimit": 10000
     },
     "inputWidgets": {},
     "nuid": "099e55ef-69fe-4c50-8fab-142097a250c3",
     "showTitle": false,
     "tableResultSettingsMap": {},
     "title": ""
    }
   },
   "outputs": [],
   "source": [
    "from pyspark.sql.functions import countDistinct, sum\n",
    "transactions_products_df.groupBy(\"customer_id\").agg(countDistinct(\"txn_id\").alias(\"purchase_count\"), sum(col(\"price\").cast(\"double\")*col(\"quantity\").cast(\"double\") * (1 - col(\"discount\"))).alias(\"revenue\")).filter(col(\"purchase_count\") > 1).sort(col(\"purchase_count\").desc()).display()"
   ]
  },
  {
   "cell_type": "markdown",
   "metadata": {
    "application/vnd.databricks.v1+cell": {
     "cellMetadata": {
      "byteLimit": 2048000,
      "rowLimit": 10000
     },
     "inputWidgets": {},
     "nuid": "52f7aa38-ed80-4ba6-9010-6b625c5cb15a",
     "showTitle": false,
     "tableResultSettingsMap": {},
     "title": ""
    }
   },
   "source": [
    "## Provide insights on which cities have the highest concentration of repeat customers"
   ]
  },
  {
   "cell_type": "code",
   "execution_count": 0,
   "metadata": {
    "application/vnd.databricks.v1+cell": {
     "cellMetadata": {
      "byteLimit": 2048000,
      "rowLimit": 10000
     },
     "inputWidgets": {},
     "nuid": "decba49b-c28c-4a4a-aff7-f9952f23bc20",
     "showTitle": false,
     "tableResultSettingsMap": {},
     "title": ""
    }
   },
   "outputs": [],
   "source": [
    "from pyspark.sql.functions import countDistinct\n",
    "transactions_df.join(customers_df, customers_df[\"customer_id\"] == transactions_df[\"customer_id\"], \"inner\").groupBy(transactions_df[\"customer_id\"],customers_df[\"city\"]).agg(countDistinct(\"txn_id\").alias(\"purchase_count\")).filter(col(\"purchase_count\") > 1).sort(col(\"purchase_count\").desc()).display()"
   ]
  },
  {
   "cell_type": "markdown",
   "metadata": {
    "application/vnd.databricks.v1+cell": {
     "cellMetadata": {
      "byteLimit": 2048000,
      "rowLimit": 10000
     },
     "inputWidgets": {},
     "nuid": "695327cf-a20b-4f93-8b90-c8f4aae8af90",
     "showTitle": false,
     "tableResultSettingsMap": {},
     "title": ""
    }
   },
   "source": [
    "# 3. Revenue & Profitability by Category"
   ]
  },
  {
   "cell_type": "markdown",
   "metadata": {
    "application/vnd.databricks.v1+cell": {
     "cellMetadata": {
      "byteLimit": 2048000,
      "rowLimit": 10000
     },
     "inputWidgets": {},
     "nuid": "72097c37-49c0-480b-8335-dde5de88751e",
     "showTitle": false,
     "tableResultSettingsMap": {},
     "title": ""
    }
   },
   "source": [
    "## The company wants to analyze which product categories drive the most revenue"
   ]
  },
  {
   "cell_type": "code",
   "execution_count": 0,
   "metadata": {
    "application/vnd.databricks.v1+cell": {
     "cellMetadata": {
      "byteLimit": 2048000,
      "rowLimit": 10000
     },
     "inputWidgets": {},
     "nuid": "5e11ad10-df9f-44d5-bee3-55f6f8ef3a97",
     "showTitle": false,
     "tableResultSettingsMap": {},
     "title": ""
    }
   },
   "outputs": [],
   "source": [
    "transactions_products_df.display()"
   ]
  },
  {
   "cell_type": "code",
   "execution_count": 0,
   "metadata": {
    "application/vnd.databricks.v1+cell": {
     "cellMetadata": {
      "byteLimit": 2048000,
      "rowLimit": 10000
     },
     "inputWidgets": {},
     "nuid": "c0405661-c9f1-47e9-ba75-9aed21b2681f",
     "showTitle": false,
     "tableResultSettingsMap": {},
     "title": ""
    }
   },
   "outputs": [],
   "source": [
    "transactions_products_df.groupBy(\"category\").agg(\n",
    "    sum(\n",
    "        col(\"price\").cast(\"double\")\n",
    "        * col(\"quantity\").cast(\"double\")\n",
    "        * (1 - col(\"discount\"))\n",
    "    ).alias(\"revenue\")\n",
    ").sort(col(\"revenue\").desc()).display()"
   ]
  },
  {
   "cell_type": "markdown",
   "metadata": {
    "application/vnd.databricks.v1+cell": {
     "cellMetadata": {
      "byteLimit": 2048000,
      "rowLimit": 10000
     },
     "inputWidgets": {},
     "nuid": "a883d9fb-327f-4594-b67f-82258617b489",
     "showTitle": false,
     "tableResultSettingsMap": {},
     "title": ""
    }
   },
   "source": [
    "## Also compute estimated profit, using a margin:\n",
    "Electronics: 10%\n",
    "Apparel: 20%\n",
    "Kitchen: 30%"
   ]
  },
  {
   "cell_type": "code",
   "execution_count": 0,
   "metadata": {
    "application/vnd.databricks.v1+cell": {
     "cellMetadata": {
      "byteLimit": 2048000,
      "rowLimit": 10000
     },
     "inputWidgets": {},
     "nuid": "39b10217-83c8-4a01-bfaf-c8a33d55f4f9",
     "showTitle": false,
     "tableResultSettingsMap": {},
     "title": ""
    }
   },
   "outputs": [],
   "source": [
    "revenue_df = transactions_products_df.groupBy(\"category\").agg(\n",
    "    sum(\n",
    "        col(\"price\").cast(\"double\")\n",
    "        * col(\"quantity\").cast(\"double\")\n",
    "        * (1 - col(\"discount\"))\n",
    "    ).alias(\"revenue\")\n",
    ").sort(col(\"revenue\").desc())"
   ]
  },
  {
   "cell_type": "code",
   "execution_count": 0,
   "metadata": {
    "application/vnd.databricks.v1+cell": {
     "cellMetadata": {
      "byteLimit": 2048000,
      "rowLimit": 10000
     },
     "inputWidgets": {},
     "nuid": "f42ea483-cc5b-4e90-bb0f-d5550a16b87a",
     "showTitle": false,
     "tableResultSettingsMap": {},
     "title": ""
    }
   },
   "outputs": [],
   "source": [
    "revenue_df.withColumn(\"estimated_profit\",when(col(\"category\")==\"Electronics\", 0.1*col(\"revenue\")).when(col(\"category\")==\"Apparel\", 0.2*col(\"revenue\")).when(col(\"category\")==\"Kitchen\", 0.3*col(\"revenue\"))).display()"
   ]
  },
  {
   "cell_type": "markdown",
   "metadata": {
    "application/vnd.databricks.v1+cell": {
     "cellMetadata": {
      "byteLimit": 2048000,
      "rowLimit": 10000
     },
     "inputWidgets": {},
     "nuid": "6041f427-3e13-4d47-b2b4-736d19c911e3",
     "showTitle": false,
     "tableResultSettingsMap": {},
     "title": ""
    }
   },
   "source": [
    "## Provide a summary showing total sales amount, total profit, and average discount by category."
   ]
  },
  {
   "cell_type": "code",
   "execution_count": 0,
   "metadata": {
    "application/vnd.databricks.v1+cell": {
     "cellMetadata": {
      "byteLimit": 2048000,
      "rowLimit": 10000
     },
     "inputWidgets": {},
     "nuid": "e38b5cc6-6906-4562-b544-c7fb5f0aa3b9",
     "showTitle": false,
     "tableResultSettingsMap": {},
     "title": ""
    }
   },
   "outputs": [],
   "source": [
    "from pyspark.sql.functions import avg, round\n",
    "\n",
    "transactions_products_df.groupBy(\"category\").agg(\n",
    "    sum(\n",
    "        col(\"price\").cast(\"double\")\n",
    "        * col(\"quantity\").cast(\"double\")\n",
    "        * (1 - col(\"discount\"))\n",
    "    ).alias(\"total_sales_amount\"),\n",
    "    round(\n",
    "        avg(\n",
    "            col(\"price\").cast(\"double\")\n",
    "            * col(\"quantity\").cast(\"double\")\n",
    "            * (col(\"discount\"))\n",
    "        ),\n",
    "        2,\n",
    "    ).alias(\"average discount\"),\n",
    ").sort(col(\"total_sales_amount\").desc()).withColumn(\n",
    "    \"total_profit\",\n",
    "    when(col(\"category\") == \"Electronics\", 0.1 * col(\"total_sales_amount\"))\n",
    "    .when(col(\"category\") == \"Apparel\", 0.2 * col(\"total_sales_amount\"))\n",
    "    .when(col(\"category\") == \"Kitchen\", 0.3 * col(\"total_sales_amount\")),\n",
    ").display()"
   ]
  },
  {
   "cell_type": "markdown",
   "metadata": {
    "application/vnd.databricks.v1+cell": {
     "cellMetadata": {
      "byteLimit": 2048000,
      "rowLimit": 10000
     },
     "inputWidgets": {},
     "nuid": "821885ef-bf80-4a0e-8ac0-89f4b231cae9",
     "showTitle": false,
     "tableResultSettingsMap": {},
     "title": ""
    }
   },
   "source": [
    "# 6. Inactive Customers"
   ]
  },
  {
   "cell_type": "markdown",
   "metadata": {
    "application/vnd.databricks.v1+cell": {
     "cellMetadata": {
      "byteLimit": 2048000,
      "rowLimit": 10000
     },
     "inputWidgets": {},
     "nuid": "acaaa12b-bdac-43de-a734-9830605d0576",
     "showTitle": false,
     "tableResultSettingsMap": {},
     "title": ""
    }
   },
   "source": [
    "## Identify customers who signed up over a year ago but have made only one purchase."
   ]
  },
  {
   "cell_type": "code",
   "execution_count": 0,
   "metadata": {
    "application/vnd.databricks.v1+cell": {
     "cellMetadata": {
      "byteLimit": 2048000,
      "rowLimit": 10000
     },
     "inputWidgets": {},
     "nuid": "94dc6bec-8a9c-4493-afe3-05266b653b65",
     "showTitle": false,
     "tableResultSettingsMap": {},
     "title": ""
    }
   },
   "outputs": [],
   "source": [
    "from pyspark.sql.functions import current_date, add_months, col\n",
    "\n",
    "customers_df.filter(\n",
    "    col(\"signup_date\") < add_months(current_date(), -12)\n",
    ").display()"
   ]
  },
  {
   "cell_type": "code",
   "execution_count": 0,
   "metadata": {
    "application/vnd.databricks.v1+cell": {
     "cellMetadata": {
      "byteLimit": 2048000,
      "rowLimit": 10000
     },
     "inputWidgets": {},
     "nuid": "250eca7d-8c42-47ca-95ed-55c012300ff4",
     "showTitle": false,
     "tableResultSettingsMap": {},
     "title": ""
    }
   },
   "outputs": [],
   "source": [
    "from pyspark.sql.functions import countDistinct\n",
    "transactions_df.join(customers_df.filter(\n",
    "    col(\"signup_date\") < add_months(current_date(), -12)\n",
    "), customers_df[\"customer_id\"] == transactions_df[\"customer_id\"], \"inner\").groupBy(transactions_df[\"customer_id\"],customers_df[\"city\"]).agg(countDistinct(\"txn_id\").alias(\"purchase_count\")).filter(col(\"purchase_count\") == 1).display()"
   ]
  }
 ],
 "metadata": {
  "application/vnd.databricks.v1+notebook": {
   "computePreferences": null,
   "dashboards": [],
   "environmentMetadata": {
    "base_environment": "",
    "environment_version": "2"
   },
   "inputWidgetPreferences": null,
   "language": "python",
   "notebookMetadata": {
    "pythonIndentUnit": 4
   },
   "notebookName": "[Capstone Project] - Customer Purchase & Retention Analysis for a Retail Chain",
   "widgets": {}
  },
  "language_info": {
   "name": "python"
  }
 },
 "nbformat": 4,
 "nbformat_minor": 0
}
